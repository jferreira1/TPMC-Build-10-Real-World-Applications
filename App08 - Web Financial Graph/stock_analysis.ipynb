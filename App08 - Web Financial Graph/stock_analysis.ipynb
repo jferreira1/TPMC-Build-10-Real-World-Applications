{
 "cells": [
  {
   "cell_type": "code",
   "execution_count": 90,
   "metadata": {
    "scrolled": false
   },
   "outputs": [],
   "source": [
    "from pandas_datareader import data\n",
    "import datetime\n",
    "from bokeh.plotting import figure, show, output_file\n",
    "from bokeh.embed import components\n",
    "from bokeh.resources import CDN\n",
    "\n",
    "start = datetime.datetime(2020, 1, 1)\n",
    "end = datetime.datetime(2020,5,28)\n",
    "df = data.DataReader(name=\"AMZN\", data_source=\"yahoo\", start=start, end=end)\n",
    "\n",
    "def good_bad_day(open, close):\n",
    "    if open > close:\n",
    "        value = \"Decrease\"\n",
    "    elif open < close:\n",
    "        value = \"Increase\"\n",
    "    else:\n",
    "        value = \"Equal\"\n",
    "    return value\n",
    "\n",
    "df[\"Status\"] = [good_bad_day(open, close) for open, close in zip(df.Open, df.Close)]\n",
    "df[\"Middle\"] = (df.Open + df.Close)/2\n",
    "df[\"Height\"] = abs(df.Open - df.Close)\n",
    "\n",
    "p = figure(x_axis_type='datetime', width=1000, height=300, sizing_mode='scale_width')\n",
    "p.title.text = \"Candlestick Chart\"\n",
    "\n",
    "hours_12 = 12*60*60*1000\n",
    "p.segment(x0=df.index, y0=df.High, x1=df.index, y1=df.Low, line_color=\"#f4a582\", line_width=3)\n",
    "p.rect(df.index[df.Status == \"Increase\"], df.Middle[df.Status == \"Increase\"], hours_12, df.Height[df.Status == \"Increase\"], fill_color = \"#229954\", line_color = \"black\")\n",
    "p.rect(df.index[df.Status == \"Decrease\"], df.Middle[df.Status == \"Decrease\"], hours_12, df.Height[df.Status == \"Decrease\"], fill_color = \"#E53935\", line_color = \"black\")\n",
    "\n",
    "script1, div1 = components(p)\n",
    "cdn_js = CDN.js_files"
   ]
  },
  {
   "cell_type": "code",
   "execution_count": 78,
   "metadata": {},
   "outputs": [],
   "source": [
    "# output_file(\"CS.html\")\n",
    "# show(p)"
   ]
  },
  {
   "cell_type": "code",
   "execution_count": 81,
   "metadata": {},
   "outputs": [
    {
     "name": "stdout",
     "output_type": "stream",
     "text": [
      "\n",
      "<script type=\"text/javascript\">\n",
      "    (function() {\n",
      "          var fn = function() {\n",
      "            Bokeh.safely(function() {\n",
      "              (function(root) {\n",
      "                function embed_document(root) {\n",
      "                  \n",
      "                var docs_json = '{&quot;f2406b27-0775-44ce-9f49-44d18a4cf1be&quot;:{&quot;roots&quot;:{&quot;references&quot;:[{&quot;attributes&quot;:{},&quot;id&quot;:&quot;10073&quot;,&quot;type&quot;:&quot;DataRange1d&quot;},{&quot;attributes&quot;:{&quot;data&quot;:{&quot;x0&quot;:{&quot;__ndarray__&quot;:&quot;AABA1Dj2dkIAAAA6i/Z2QgAAQGuC93ZCAAAA0dT3dkIAAMA2J/h2QgAAgJx5+HZCAABAAsz4dkIAAIAzw/l2QgAAQJkV+nZCAAAA/2f6dkIAAMBkuvp2QgAAgMoM+3ZCAACAYVb8dkIAAEDHqPx2QgAAAC37/HZCAADAkk39dkIAAADERP52QgAAwCmX/nZCAACAj+n+dkIAAED1O/92QgAAAFuO/3ZCAABAjIUAd0IAAADy1wB3QgAAwFcqAXdCAACAvXwBd0IAAEAjzwF3QgAAgFTGAndCAABAuhgDd0IAAAAgawN3QgAAwIW9A3dCAACA6w8Ed0IAAICCWQV3QgAAQOirBXdCAAAATv4Fd0IAAMCzUAZ3QgAAAOVHB3dCAADASpoHd0IAAICw7Ad3QgAAQBY/CHdCAAAAfJEId0IAAECtiAl3QgAAABPbCXdCAADAeC0Kd0IAAIDefwp3QgAAQETSCndCAACAdckLd0IAAEDbGwx3QgAAAEFuDHdCAADApsAMd0IAAIAMEw13QgAAwD0KDndCAACAo1wOd0IAAEAJrw53QgAAAG8BD3dCAADA1FMPd0IAAAAGSxB3QgAAwGudEHdCAACA0e8Qd0IAAEA3QhF3QgAAAJ2UEXdCAABAzosSd0IAAAA03hJ3QgAAwJkwE3dCAACA/4ITd0IAAEBl1RN3QgAAgJbMFHdCAABA/B4Vd0IAAABicRV3QgAAwMfDFXdCAADAXg0Xd0IAAIDEXxd3QgAAQCqyF3dCAAAAkAQYd0IAAMD1Vhh3QgAAACdOGXdCAADAjKAZd0IAAIDy8hl3QgAAQFhFGndCAAAAvpcad0IAAEDvjht3QgAAAFXhG3dCAADAujMcd0IAAIAghhx3QgAAQIbYHHdCAACAt88dd0IAAEAdIh53QgAAAIN0HndCAADA6MYed0IAAIBOGR93QgAAwH8QIHdCAACA5WIgd0IAAEBLtSB3QgAAALEHIXdCAADAFlohd0IAAABIUSJ3QgAAwK2jIndCAACAE/Yid0IAAEB5SCN3QgAAAN+aI3dCAAAAduQkd0IAAMDbNiV3QgAAgEGJJXdC&quot;,&quot;dtype&quot;:&quot;float64&quot;,&quot;shape&quot;:[102]},&quot;x1&quot;:{&quot;__ndarray__&quot;:&quot;AABA1Dj2dkIAAAA6i/Z2QgAAQGuC93ZCAAAA0dT3dkIAAMA2J/h2QgAAgJx5+HZCAABAAsz4dkIAAIAzw/l2QgAAQJkV+nZCAAAA/2f6dkIAAMBkuvp2QgAAgMoM+3ZCAACAYVb8dkIAAEDHqPx2QgAAAC37/HZCAADAkk39dkIAAADERP52QgAAwCmX/nZCAACAj+n+dkIAAED1O/92QgAAAFuO/3ZCAABAjIUAd0IAAADy1wB3QgAAwFcqAXdCAACAvXwBd0IAAEAjzwF3QgAAgFTGAndCAABAuhgDd0IAAAAgawN3QgAAwIW9A3dCAACA6w8Ed0IAAICCWQV3QgAAQOirBXdCAAAATv4Fd0IAAMCzUAZ3QgAAAOVHB3dCAADASpoHd0IAAICw7Ad3QgAAQBY/CHdCAAAAfJEId0IAAECtiAl3QgAAABPbCXdCAADAeC0Kd0IAAIDefwp3QgAAQETSCndCAACAdckLd0IAAEDbGwx3QgAAAEFuDHdCAADApsAMd0IAAIAMEw13QgAAwD0KDndCAACAo1wOd0IAAEAJrw53QgAAAG8BD3dCAADA1FMPd0IAAAAGSxB3QgAAwGudEHdCAACA0e8Qd0IAAEA3QhF3QgAAAJ2UEXdCAABAzosSd0IAAAA03hJ3QgAAwJkwE3dCAACA/4ITd0IAAEBl1RN3QgAAgJbMFHdCAABA/B4Vd0IAAABicRV3QgAAwMfDFXdCAADAXg0Xd0IAAIDEXxd3QgAAQCqyF3dCAAAAkAQYd0IAAMD1Vhh3QgAAACdOGXdCAADAjKAZd0IAAIDy8hl3QgAAQFhFGndCAAAAvpcad0IAAEDvjht3QgAAAFXhG3dCAADAujMcd0IAAIAghhx3QgAAQIbYHHdCAACAt88dd0IAAEAdIh53QgAAAIN0HndCAADA6MYed0IAAIBOGR93QgAAwH8QIHdCAACA5WIgd0IAAEBLtSB3QgAAALEHIXdCAADAFlohd0IAAABIUSJ3QgAAwK2jIndCAACAE/Yid0IAAEB5SCN3QgAAAN+aI3dCAAAAduQkd0IAAMDbNiV3QgAAgEGJJXdC&quot;,&quot;dtype&quot;:&quot;float64&quot;,&quot;shape&quot;:[102]},&quot;y0&quot;:{&quot;__ndarray__&quot;:&quot;AAAAQAqonUAAAADAzHidQAAAAIDCvp1AAAAAYI/nnUAAAAAAANydQAAAAKBH951AAAAAgMLLnUAAAAAAAKidQAAAAKBwfJ1AAAAAoHBbnUAAAAAgXHadQAAAAGCPep1AAAAAgBSZnUAAAAAAALqdQAAAAIDrh51AAAAAwPWbnUAAAAAAAMScQAAAAKBwCJ1AAAAAAABLnUAAAADgekOdQAAAAKBwD6BAAAAAAAABoEAAAACgmRegQAAAAEAKLqBAAAAAoJkQoEAAAABgD2WgQAAAAEAzr6BAAAAAYOYToUAAAAAAgAihQAAAAGCP9KBAAAAAgBTeoEAAAADgI+ygQAAAAEAzEqFAAAAAgJQBoUAAAACgGcGgQAAAAEAz3Z9AAAAAYGbKn0AAAAAgrnqfQAAAAAAA3J5AAAAAQAqHnUAAAABACoqeQAAAAOBRMZ9AAAAAAADonkAAAABA4aKeQAAAAOB6251AAAAAgBQbnUAAAACAFJmdQAAAAKBHPZ1AAAAAAACUm0AAAACAPembQAAAAMDMfZtAAAAAwB4HnUAAAADgo8acQAAAAAAAZJ5AAAAAAACUnkAAAACgmf2dQAAAAAAAjJ5AAAAAQAp5nkAAAADA9ZGeQAAAAAApT55AAAAAIIXWnkAAAACAFCSfQAAAAADXY55AAAAAwB4enkAAAADgURmeQAAAAIAUOp9AAAAAQOHOn0AAAAAAAPCfQAAAAAAACqBAAAAAAAAIoUAAAAAAAOihQAAAAIC9OqJAAAAAAAA6o0AAAAAAAMCiQAAAAMD1GaNAAAAAwJ74okAAAAAAALSiQAAAAKBw8KJAAAAAINzookAAAACAwhmjQAAAAAAAi6JAAAAAoMevokAAAAAAAFajQAAAAEDhdKJAAAAAwPUtokAAAAAAAF6iQAAAAGDmaqJAAAAAAACQokAAAADgeqaiQAAAAABX56JAAAAAAADmokAAAABgZs+iQAAAAIC9rqJAAAAAAADWokAAAAAAAAKjQAAAAAAAaqNAAAAAIAWIo0AAAABg5rqjQAAAAECzS6NAAAAAAAA8o0AAAAAAKduiQAAAAKDwCaNA&quot;,&quot;dtype&quot;:&quot;float64&quot;,&quot;shape&quot;:[102]},&quot;y1&quot;:{&quot;__ndarray__&quot;:&quot;AAAAoJkgnUAAAAAAACKdQAAAAAAAEJ1AAAAAACmQnUAAAACAwnmdQAAAAEAzn51AAAAAAABgnUAAAABAM2OdQAAAAEAzCp1AAAAAIFz8nEAAAACAFCidQAAAAAAABZ1AAAAAAAAQnUAAAAAgXG2dQAAAAEAKQ51AAAAAgMLdnEAAAAAgXF2cQAAAAIAUmJxAAAAAgBT8nEAAAACgcOqcQAAAAIAUSZ9AAAAAAABBn0AAAADgen2fQAAAAAAAwJ9AAAAAQDOjn0AAAABgZtifQAAAAIDrSaBAAAAAAACwoEAAAACAlNagQAAAAAAAvKBAAAAAoMeboEAAAABgOJigQAAAAIA94qBAAAAAYOaeoEAAAAAAAFCgQAAAAEDhD59AAAAAIK6ZnkAAAADAzKGeQAAAAEAKa51AAAAAIIVMnEAAAAAAADidQAAAACBcgJ1AAAAAAAAInkAAAAAAANidQAAAAAAANp1AAAAAACmFm0AAAAAgrmicQAAAAAAAJpxAAAAAAAAsmkAAAADgekKaQAAAAMAeaJlAAAAAwPVkmkAAAAAAAESbQAAAAKCZopxAAAAAgOtynEAAAAAAAFCcQAAAACBcsZ1AAAAAwB53nUAAAAAAKYWdQAAAACCur51AAAAAIFzhnUAAAABACmCeQAAAAAAAlJ1AAAAAAACInUAAAACgmYSdQAAAAIAUKJ5AAAAA4Ho2n0AAAACgmWyfQAAAAOCjhp9AAAAAAADYn0AAAACAaxShQAAAAAAAiqFAAAAAAAA+okAAAABAChiiQAAAAKAZpKJAAAAA4FHPoUAAAAAAAF6iQAAAAAApnKJAAAAAAACcokAAAAAAAHaiQAAAAAAABKJAAAAAAAAMokAAAAAgBbiiQAAAAEBhpKFAAAAAgMKgoUAAAACAQgaiQAAAAAAAIKJAAAAAYDhOokAAAAAAAGqiQAAAAGA4iKJAAAAAAABmokAAAACgmUOiQAAAAIBrYqJAAAAAgL1ookAAAAAgBaCiQAAAAKDw+aJAAAAAQIpGo0AAAACAFBWjQAAAAIBC/KJAAAAAwB7cokAAAAAAADSiQAAAAMB1lKJA&quot;,&quot;dtype&quot;:&quot;float64&quot;,&quot;shape&quot;:[102]}},&quot;selected&quot;:{&quot;id&quot;:&quot;10137&quot;},&quot;selection_policy&quot;:{&quot;id&quot;:&quot;10136&quot;}},&quot;id&quot;:&quot;10102&quot;,&quot;type&quot;:&quot;ColumnDataSource&quot;},{&quot;attributes&quot;:{},&quot;id&quot;:&quot;10121&quot;,&quot;type&quot;:&quot;BasicTickFormatter&quot;},{&quot;attributes&quot;:{&quot;fill_color&quot;:{&quot;value&quot;:&quot;#E53935&quot;},&quot;height&quot;:{&quot;field&quot;:&quot;height&quot;,&quot;units&quot;:&quot;data&quot;},&quot;width&quot;:{&quot;units&quot;:&quot;data&quot;,&quot;value&quot;:43200000},&quot;x&quot;:{&quot;field&quot;:&quot;x&quot;},&quot;y&quot;:{&quot;field&quot;:&quot;y&quot;}},&quot;id&quot;:&quot;10113&quot;,&quot;type&quot;:&quot;Rect&quot;},{&quot;attributes&quot;:{&quot;bottom_units&quot;:&quot;screen&quot;,&quot;fill_alpha&quot;:0.5,&quot;fill_color&quot;:&quot;lightgrey&quot;,&quot;left_units&quot;:&quot;screen&quot;,&quot;level&quot;:&quot;overlay&quot;,&quot;line_alpha&quot;:1.0,&quot;line_color&quot;:&quot;black&quot;,&quot;line_dash&quot;:[4,4],&quot;line_width&quot;:2,&quot;render_mode&quot;:&quot;css&quot;,&quot;right_units&quot;:&quot;screen&quot;,&quot;top_units&quot;:&quot;screen&quot;},&quot;id&quot;:&quot;10093&quot;,&quot;type&quot;:&quot;BoxAnnotation&quot;},{&quot;attributes&quot;:{&quot;months&quot;:[0,4,8]},&quot;id&quot;:&quot;10133&quot;,&quot;type&quot;:&quot;MonthsTicker&quot;},{&quot;attributes&quot;:{},&quot;id&quot;:&quot;10139&quot;,&quot;type&quot;:&quot;Selection&quot;},{&quot;attributes&quot;:{},&quot;id&quot;:&quot;10084&quot;,&quot;type&quot;:&quot;BasicTicker&quot;},{&quot;attributes&quot;:{&quot;formatter&quot;:{&quot;id&quot;:&quot;10121&quot;},&quot;ticker&quot;:{&quot;id&quot;:&quot;10084&quot;}},&quot;id&quot;:&quot;10083&quot;,&quot;type&quot;:&quot;LinearAxis&quot;},{&quot;attributes&quot;:{},&quot;id&quot;:&quot;10140&quot;,&quot;type&quot;:&quot;UnionRenderers&quot;},{&quot;attributes&quot;:{&quot;axis&quot;:{&quot;id&quot;:&quot;10079&quot;},&quot;ticker&quot;:null},&quot;id&quot;:&quot;10082&quot;,&quot;type&quot;:&quot;Grid&quot;},{&quot;attributes&quot;:{&quot;axis&quot;:{&quot;id&quot;:&quot;10083&quot;},&quot;dimension&quot;:1,&quot;ticker&quot;:null},&quot;id&quot;:&quot;10086&quot;,&quot;type&quot;:&quot;Grid&quot;},{&quot;attributes&quot;:{&quot;num_minor_ticks&quot;:5,&quot;tickers&quot;:[{&quot;id&quot;:&quot;10124&quot;},{&quot;id&quot;:&quot;10125&quot;},{&quot;id&quot;:&quot;10126&quot;},{&quot;id&quot;:&quot;10127&quot;},{&quot;id&quot;:&quot;10128&quot;},{&quot;id&quot;:&quot;10129&quot;},{&quot;id&quot;:&quot;10130&quot;},{&quot;id&quot;:&quot;10131&quot;},{&quot;id&quot;:&quot;10132&quot;},{&quot;id&quot;:&quot;10133&quot;},{&quot;id&quot;:&quot;10134&quot;},{&quot;id&quot;:&quot;10135&quot;}]},&quot;id&quot;:&quot;10080&quot;,&quot;type&quot;:&quot;DatetimeTicker&quot;},{&quot;attributes&quot;:{&quot;days&quot;:[1,4,7,10,13,16,19,22,25,28]},&quot;id&quot;:&quot;10128&quot;,&quot;type&quot;:&quot;DaysTicker&quot;},{&quot;attributes&quot;:{&quot;days&quot;:[1,15]},&quot;id&quot;:&quot;10130&quot;,&quot;type&quot;:&quot;DaysTicker&quot;},{&quot;attributes&quot;:{&quot;formatter&quot;:{&quot;id&quot;:&quot;10119&quot;},&quot;ticker&quot;:{&quot;id&quot;:&quot;10080&quot;}},&quot;id&quot;:&quot;10079&quot;,&quot;type&quot;:&quot;DatetimeAxis&quot;},{&quot;attributes&quot;:{&quot;data_source&quot;:{&quot;id&quot;:&quot;10107&quot;},&quot;glyph&quot;:{&quot;id&quot;:&quot;10108&quot;},&quot;hover_glyph&quot;:null,&quot;muted_glyph&quot;:null,&quot;nonselection_glyph&quot;:{&quot;id&quot;:&quot;10109&quot;},&quot;selection_glyph&quot;:null,&quot;view&quot;:{&quot;id&quot;:&quot;10111&quot;}},&quot;id&quot;:&quot;10110&quot;,&quot;type&quot;:&quot;GlyphRenderer&quot;},{&quot;attributes&quot;:{&quot;overlay&quot;:{&quot;id&quot;:&quot;10093&quot;}},&quot;id&quot;:&quot;10089&quot;,&quot;type&quot;:&quot;BoxZoomTool&quot;},{&quot;attributes&quot;:{},&quot;id&quot;:&quot;10138&quot;,&quot;type&quot;:&quot;UnionRenderers&quot;},{&quot;attributes&quot;:{&quot;text&quot;:&quot;Candlestick Chart&quot;},&quot;id&quot;:&quot;10101&quot;,&quot;type&quot;:&quot;Title&quot;},{&quot;attributes&quot;:{&quot;mantissas&quot;:[1,2,5],&quot;max_interval&quot;:500.0,&quot;num_minor_ticks&quot;:0},&quot;id&quot;:&quot;10124&quot;,&quot;type&quot;:&quot;AdaptiveTicker&quot;},{&quot;attributes&quot;:{&quot;days&quot;:[1,2,3,4,5,6,7,8,9,10,11,12,13,14,15,16,17,18,19,20,21,22,23,24,25,26,27,28,29,30,31]},&quot;id&quot;:&quot;10127&quot;,&quot;type&quot;:&quot;DaysTicker&quot;},{&quot;attributes&quot;:{&quot;fill_alpha&quot;:{&quot;value&quot;:0.1},&quot;fill_color&quot;:{&quot;value&quot;:&quot;#229954&quot;},&quot;height&quot;:{&quot;field&quot;:&quot;height&quot;,&quot;units&quot;:&quot;data&quot;},&quot;line_alpha&quot;:{&quot;value&quot;:0.1},&quot;width&quot;:{&quot;units&quot;:&quot;data&quot;,&quot;value&quot;:43200000},&quot;x&quot;:{&quot;field&quot;:&quot;x&quot;},&quot;y&quot;:{&quot;field&quot;:&quot;y&quot;}},&quot;id&quot;:&quot;10109&quot;,&quot;type&quot;:&quot;Rect&quot;},{&quot;attributes&quot;:{&quot;line_color&quot;:{&quot;value&quot;:&quot;#f4a582&quot;},&quot;line_width&quot;:{&quot;value&quot;:3},&quot;x0&quot;:{&quot;field&quot;:&quot;x0&quot;},&quot;x1&quot;:{&quot;field&quot;:&quot;x1&quot;},&quot;y0&quot;:{&quot;field&quot;:&quot;y0&quot;},&quot;y1&quot;:{&quot;field&quot;:&quot;y1&quot;}},&quot;id&quot;:&quot;10103&quot;,&quot;type&quot;:&quot;Segment&quot;},{&quot;attributes&quot;:{&quot;base&quot;:60,&quot;mantissas&quot;:[1,2,5,10,15,20,30],&quot;max_interval&quot;:1800000.0,&quot;min_interval&quot;:1000.0,&quot;num_minor_ticks&quot;:0},&quot;id&quot;:&quot;10125&quot;,&quot;type&quot;:&quot;AdaptiveTicker&quot;},{&quot;attributes&quot;:{&quot;line_alpha&quot;:{&quot;value&quot;:0.1},&quot;line_color&quot;:{&quot;value&quot;:&quot;#f4a582&quot;},&quot;line_width&quot;:{&quot;value&quot;:3},&quot;x0&quot;:{&quot;field&quot;:&quot;x0&quot;},&quot;x1&quot;:{&quot;field&quot;:&quot;x1&quot;},&quot;y0&quot;:{&quot;field&quot;:&quot;y0&quot;},&quot;y1&quot;:{&quot;field&quot;:&quot;y1&quot;}},&quot;id&quot;:&quot;10104&quot;,&quot;type&quot;:&quot;Segment&quot;},{&quot;attributes&quot;:{},&quot;id&quot;:&quot;10092&quot;,&quot;type&quot;:&quot;HelpTool&quot;},{&quot;attributes&quot;:{&quot;data&quot;:{&quot;height&quot;:{&quot;__ndarray__&quot;:&quot;AAAAAMBHGEAAAAAAEK4hQAAAAADANTZAAAAAAACAhD8AAAAAqHAwQAAAAADAdSRAAAAAAEAzFEAAAAAAiCs1QAAAAACQQiFAAAAAAAD24D8AAAAA4Lo9QAAAAAAAABhAAAAAAABgRUAAAAAAoJkZQAAAAABoJj9AAAAAAACQuT8AAAAAgJkJQAAAAABQzzRAAAAAAFD4M0AAAAAACBdHQAAAAAAM10pAAAAAADwKSUAAAAAAUphQQAAAAACg8CFAAAAAALh+QkAAAAAAXK9GQAAAAAAWDlRAAAAAANDMJkAAAAAAzGxBQAAAAACQwj5AAAAAAJBCLUAAAAAAIEU5QAAAAACAPRJAAAAAAEAKFkAAAAAAAKT4PwAAAABcH1ZAAAAAAEAKFkAAAAAAAPbgPwAAAADAHhtAAAAAAMzMUEAAAAAAkAJNQAAAAABIYUlAAAAAADAzNkAAAAAAAK4cQAAAAAA4c0tAAAAAAEihSkAAAAAAUCEyQAAAAADoEUJA&quot;,&quot;dtype&quot;:&quot;float64&quot;,&quot;shape&quot;:[48]},&quot;x&quot;:{&quot;__ndarray__&quot;:&quot;AADANif4dkIAAICcefh2QgAAQALM+HZCAACAM8P5dkIAAECZFfp2QgAAAP9n+nZCAADAZLr6dkIAAIDKDPt2QgAAQMeo/HZCAAAALfv8dkIAAMCSTf12QgAAgI/p/nZCAAAAW47/dkIAAECMhQB3QgAAwFcqAXdCAABAuhgDd0IAAAAgawN3QgAAgOsPBHdCAAAATv4Fd0IAAMCzUAZ3QgAAwEqaB3dCAABAFj8Id0IAAAAT2wl3QgAAgN5/CndCAAAAQW4Md0IAAMCmwAx3QgAAwNRTD3dCAADAa50Qd0IAAIDR7xB3QgAAAJ2UEXdCAAAANN4Sd0IAAMCZMBN3QgAAQGXVE3dCAABA/B4Vd0IAAMDHwxV3QgAAwIygGXdCAACA8vIZd0IAAEBYRRp3QgAAAL6XGndCAABA744bd0IAAABV4Rt3QgAAQIbYHHdCAABAHSIed0IAAMDoxh53QgAAgOViIHdCAABAeUgjd0IAAADfmiN3QgAAAHbkJHdC&quot;,&quot;dtype&quot;:&quot;float64&quot;,&quot;shape&quot;:[48]},&quot;y&quot;:{&quot;__ndarray__&quot;:&quot;AAAAIAWcnUAAAABQ4cWdQAAAAGAPmZ1AAAAAYDiNnUAAAADQo1adQAAAAECKLJ1AAAAAINxhnUAAAABQOE2dQAAAAJAZj51AAAAAQGFznUAAAAAgBVKdQAAAAAAAFJ1AAAAAQGG4n0AAAACQmV2fQAAAANjjDqBAAAAAMLPNoEAAAAAwM+OgQAAAANCMwqBAAAAAkCvmoEAAAACwHo6gQAAAAPBRPp9AAAAAMFzVnUAAAABQuFieQAAAAGAPIp5AAAAAgGu9nEAAAAAQLo2aQAAAANDMeJ1AAAAAMDNnnkAAAABQD72dQAAAAIDr7Z1AAAAA0COUnkAAAAAAVwGeQAAAAOB6051AAAAAgGt5n0AAAADAHu6fQAAAAPC6iKJAAAAAcH18okAAAAAQbr+iQAAAAFA426JAAAAAMDPTokAAAAAgLk6iQAAAABDXDqJAAAAA0MwxokAAAADgY4aiQAAAANDMoKJAAAAAcL1So0AAAADQ4xujQAAAADDcD6NA&quot;,&quot;dtype&quot;:&quot;float64&quot;,&quot;shape&quot;:[48]}},&quot;selected&quot;:{&quot;id&quot;:&quot;10141&quot;},&quot;selection_policy&quot;:{&quot;id&quot;:&quot;10140&quot;}},&quot;id&quot;:&quot;10112&quot;,&quot;type&quot;:&quot;ColumnDataSource&quot;},{&quot;attributes&quot;:{&quot;base&quot;:24,&quot;mantissas&quot;:[1,2,4,6,8,12],&quot;max_interval&quot;:43200000.0,&quot;min_interval&quot;:3600000.0,&quot;num_minor_ticks&quot;:0},&quot;id&quot;:&quot;10126&quot;,&quot;type&quot;:&quot;AdaptiveTicker&quot;},{&quot;attributes&quot;:{&quot;months&quot;:[0,1,2,3,4,5,6,7,8,9,10,11]},&quot;id&quot;:&quot;10131&quot;,&quot;type&quot;:&quot;MonthsTicker&quot;},{&quot;attributes&quot;:{},&quot;id&quot;:&quot;10135&quot;,&quot;type&quot;:&quot;YearsTicker&quot;},{&quot;attributes&quot;:{&quot;days&quot;:[1,8,15,22]},&quot;id&quot;:&quot;10129&quot;,&quot;type&quot;:&quot;DaysTicker&quot;},{&quot;attributes&quot;:{&quot;months&quot;:[0,2,4,6,8,10]},&quot;id&quot;:&quot;10132&quot;,&quot;type&quot;:&quot;MonthsTicker&quot;},{&quot;attributes&quot;:{},&quot;id&quot;:&quot;10091&quot;,&quot;type&quot;:&quot;ResetTool&quot;},{&quot;attributes&quot;:{&quot;data_source&quot;:{&quot;id&quot;:&quot;10112&quot;},&quot;glyph&quot;:{&quot;id&quot;:&quot;10113&quot;},&quot;hover_glyph&quot;:null,&quot;muted_glyph&quot;:null,&quot;nonselection_glyph&quot;:{&quot;id&quot;:&quot;10114&quot;},&quot;selection_glyph&quot;:null,&quot;view&quot;:{&quot;id&quot;:&quot;10116&quot;}},&quot;id&quot;:&quot;10115&quot;,&quot;type&quot;:&quot;GlyphRenderer&quot;},{&quot;attributes&quot;:{},&quot;id&quot;:&quot;10090&quot;,&quot;type&quot;:&quot;SaveTool&quot;},{&quot;attributes&quot;:{},&quot;id&quot;:&quot;10119&quot;,&quot;type&quot;:&quot;DatetimeTickFormatter&quot;},{&quot;attributes&quot;:{},&quot;id&quot;:&quot;10141&quot;,&quot;type&quot;:&quot;Selection&quot;},{&quot;attributes&quot;:{&quot;data_source&quot;:{&quot;id&quot;:&quot;10102&quot;},&quot;glyph&quot;:{&quot;id&quot;:&quot;10103&quot;},&quot;hover_glyph&quot;:null,&quot;muted_glyph&quot;:null,&quot;nonselection_glyph&quot;:{&quot;id&quot;:&quot;10104&quot;},&quot;selection_glyph&quot;:null,&quot;view&quot;:{&quot;id&quot;:&quot;10106&quot;}},&quot;id&quot;:&quot;10105&quot;,&quot;type&quot;:&quot;GlyphRenderer&quot;},{&quot;attributes&quot;:{},&quot;id&quot;:&quot;10088&quot;,&quot;type&quot;:&quot;WheelZoomTool&quot;},{&quot;attributes&quot;:{&quot;source&quot;:{&quot;id&quot;:&quot;10107&quot;}},&quot;id&quot;:&quot;10111&quot;,&quot;type&quot;:&quot;CDSView&quot;},{&quot;attributes&quot;:{&quot;months&quot;:[0,6]},&quot;id&quot;:&quot;10134&quot;,&quot;type&quot;:&quot;MonthsTicker&quot;},{&quot;attributes&quot;:{},&quot;id&quot;:&quot;10137&quot;,&quot;type&quot;:&quot;Selection&quot;},{&quot;attributes&quot;:{&quot;below&quot;:[{&quot;id&quot;:&quot;10079&quot;}],&quot;center&quot;:[{&quot;id&quot;:&quot;10082&quot;},{&quot;id&quot;:&quot;10086&quot;}],&quot;left&quot;:[{&quot;id&quot;:&quot;10083&quot;}],&quot;plot_height&quot;:300,&quot;plot_width&quot;:1000,&quot;renderers&quot;:[{&quot;id&quot;:&quot;10105&quot;},{&quot;id&quot;:&quot;10110&quot;},{&quot;id&quot;:&quot;10115&quot;}],&quot;sizing_mode&quot;:&quot;scale_width&quot;,&quot;title&quot;:{&quot;id&quot;:&quot;10101&quot;},&quot;toolbar&quot;:{&quot;id&quot;:&quot;10094&quot;},&quot;x_range&quot;:{&quot;id&quot;:&quot;10071&quot;},&quot;x_scale&quot;:{&quot;id&quot;:&quot;10075&quot;},&quot;y_range&quot;:{&quot;id&quot;:&quot;10073&quot;},&quot;y_scale&quot;:{&quot;id&quot;:&quot;10077&quot;}},&quot;id&quot;:&quot;10070&quot;,&quot;subtype&quot;:&quot;Figure&quot;,&quot;type&quot;:&quot;Plot&quot;},{&quot;attributes&quot;:{},&quot;id&quot;:&quot;10075&quot;,&quot;type&quot;:&quot;LinearScale&quot;},{&quot;attributes&quot;:{&quot;data&quot;:{&quot;height&quot;:{&quot;__ndarray__&quot;:&quot;AAAAAJACN0AAAAAAoPAkQAAAAACkcEVAAAAAAEDhAkAAAAAAAAA7QAAAAAAQriBAAAAAAACAKUAAAAAAMFwpQAAAAAA4yjNAAAAAAIBrIkAAAAAAIKVCQAAAAAAwc0hAAAAAAECFE0AAAAAAYKY+QAAAAAAAXANAAAAAAKBwGEAAAAAAsJ4iQAAAAACuR1FAAAAAAOC6R0AAAAAAkEI9QAAAAAAIFzpAAAAAAADAOkAAAAAAoPA0QAAAAAAAAD5AAAAAAOzRR0AAAAAAXC9AQAAAAAAAAFRAAAAAABjuNEAAAAAAHsVSQAAAAAC4vkpAAAAAAFyPREAAAAAAoDAxQAAAAACEy05AAAAAAAAANkAAAAAA2BtgQAAAAABotlRAAAAAAAAASUAAAAAAUBhPQAAAAAAAXAVAAAAAAABIDUAAAAAAmFlFQAAAAAB4FEtAAAAAABjOTUAAAAAA8NE1QAAAAACA4R1AAAAAAGgmQUAAAAAAAOvxPwAAAAAQ1ztAAAAAAEihREAAAAAA8Og1QAAAAAAAgDNAAAAAAOARNEAAAAAAgJkVQAAAAAAgxTBA&quot;,&quot;dtype&quot;:&quot;float64&quot;,&quot;shape&quot;:[54]},&quot;x&quot;:{&quot;__ndarray__&quot;:&quot;AABA1Dj2dkIAAAA6i/Z2QgAAQGuC93ZCAAAA0dT3dkIAAIBhVvx2QgAAAMRE/nZCAADAKZf+dkIAAED1O/92QgAAAPLXAHdCAACAvXwBd0IAAEAjzwF3QgAAgFTGAndCAADAhb0Dd0IAAICCWQV3QgAAQOirBXdCAAAA5UcHd0IAAICw7Ad3QgAAAHyRCHdCAABArYgJd0IAAMB4LQp3QgAAQETSCndCAACAdckLd0IAAEDbGwx3QgAAgAwTDXdCAADAPQoOd0IAAICjXA53QgAAQAmvDndCAAAAbwEPd0IAAAAGSxB3QgAAQDdCEXdCAABAzosSd0IAAID/ghN3QgAAgJbMFHdCAAAAYnEVd0IAAMBeDRd3QgAAgMRfF3dCAABAKrIXd0IAAACQBBh3QgAAwPVWGHdCAAAAJ04Zd0IAAMC6Mxx3QgAAgCCGHHdCAACAt88dd0IAAACDdB53QgAAgE4ZH3dCAADAfxAgd0IAAEBLtSB3QgAAALEHIXdCAADAFlohd0IAAABIUSJ3QgAAwK2jIndCAACAE/Yid0IAAMDbNiV3QgAAgEGJJXdC&quot;,&quot;dtype&quot;:&quot;float64&quot;,&quot;shape&quot;:[54]},&quot;y&quot;:{&quot;__ndarray__&quot;:&quot;AAAAIAV6nUAAAACg8DadQAAAAJDCZZ1AAAAAULjGnUAAAAAAAFqdQAAAABCugJxAAAAAAIDbnEAAAAAwXCGdQAAAAJAZ359AAAAAAID2n0AAAAAgRRmgQAAAAIDreqBAAAAAMNzGoEAAAACgsLigQAAAACAF8qBAAAAAsPBYn0AAAABwvdueQAAAAJDC5JxAAAAAQOEonkAAAADAzKSeQAAAABAugJ1AAAAAoPDsm0AAAABgZmWdQAAAAAAAqJtAAAAA8FEFmkAAAACwnv6bQAAAAAAA+JtAAAAAMNw5nUAAAADwKCWdQAAAAOD6Ip5AAAAAUI9dnkAAAACg8NidQAAAABAuu55AAAAAAADAn0AAAADA3nCgQAAAAEDKg6FAAAAAIFzVoUAAAACgMJKiQAAAAIBUi6JAAAAAYI+vokAAAABQuF6iQAAAABDXHaNAAAAAsF7coUAAAAAws0iiQAAAAADAj6JAAAAAMLOvokAAAABQuH6iQAAAADDcjaJAAAAA0EyqokAAAAAwnN6iQAAAAAApD6NAAAAAYM9vo0AAAABAYc+iQAAAACBusaJA&quot;,&quot;dtype&quot;:&quot;float64&quot;,&quot;shape&quot;:[54]}},&quot;selected&quot;:{&quot;id&quot;:&quot;10139&quot;},&quot;selection_policy&quot;:{&quot;id&quot;:&quot;10138&quot;}},&quot;id&quot;:&quot;10107&quot;,&quot;type&quot;:&quot;ColumnDataSource&quot;},{&quot;attributes&quot;:{&quot;active_drag&quot;:&quot;auto&quot;,&quot;active_inspect&quot;:&quot;auto&quot;,&quot;active_multi&quot;:null,&quot;active_scroll&quot;:&quot;auto&quot;,&quot;active_tap&quot;:&quot;auto&quot;,&quot;tools&quot;:[{&quot;id&quot;:&quot;10087&quot;},{&quot;id&quot;:&quot;10088&quot;},{&quot;id&quot;:&quot;10089&quot;},{&quot;id&quot;:&quot;10090&quot;},{&quot;id&quot;:&quot;10091&quot;},{&quot;id&quot;:&quot;10092&quot;}]},&quot;id&quot;:&quot;10094&quot;,&quot;type&quot;:&quot;Toolbar&quot;},{&quot;attributes&quot;:{},&quot;id&quot;:&quot;10071&quot;,&quot;type&quot;:&quot;DataRange1d&quot;},{&quot;attributes&quot;:{&quot;source&quot;:{&quot;id&quot;:&quot;10102&quot;}},&quot;id&quot;:&quot;10106&quot;,&quot;type&quot;:&quot;CDSView&quot;},{&quot;attributes&quot;:{},&quot;id&quot;:&quot;10136&quot;,&quot;type&quot;:&quot;UnionRenderers&quot;},{&quot;attributes&quot;:{},&quot;id&quot;:&quot;10087&quot;,&quot;type&quot;:&quot;PanTool&quot;},{&quot;attributes&quot;:{},&quot;id&quot;:&quot;10077&quot;,&quot;type&quot;:&quot;LinearScale&quot;},{&quot;attributes&quot;:{&quot;fill_color&quot;:{&quot;value&quot;:&quot;#229954&quot;},&quot;height&quot;:{&quot;field&quot;:&quot;height&quot;,&quot;units&quot;:&quot;data&quot;},&quot;width&quot;:{&quot;units&quot;:&quot;data&quot;,&quot;value&quot;:43200000},&quot;x&quot;:{&quot;field&quot;:&quot;x&quot;},&quot;y&quot;:{&quot;field&quot;:&quot;y&quot;}},&quot;id&quot;:&quot;10108&quot;,&quot;type&quot;:&quot;Rect&quot;},{&quot;attributes&quot;:{&quot;source&quot;:{&quot;id&quot;:&quot;10112&quot;}},&quot;id&quot;:&quot;10116&quot;,&quot;type&quot;:&quot;CDSView&quot;},{&quot;attributes&quot;:{&quot;fill_alpha&quot;:{&quot;value&quot;:0.1},&quot;fill_color&quot;:{&quot;value&quot;:&quot;#E53935&quot;},&quot;height&quot;:{&quot;field&quot;:&quot;height&quot;,&quot;units&quot;:&quot;data&quot;},&quot;line_alpha&quot;:{&quot;value&quot;:0.1},&quot;width&quot;:{&quot;units&quot;:&quot;data&quot;,&quot;value&quot;:43200000},&quot;x&quot;:{&quot;field&quot;:&quot;x&quot;},&quot;y&quot;:{&quot;field&quot;:&quot;y&quot;}},&quot;id&quot;:&quot;10114&quot;,&quot;type&quot;:&quot;Rect&quot;}],&quot;root_ids&quot;:[&quot;10070&quot;]},&quot;title&quot;:&quot;Bokeh Application&quot;,&quot;version&quot;:&quot;2.0.2&quot;}}';\n",
      "                var render_items = [{\"docid\":\"f2406b27-0775-44ce-9f49-44d18a4cf1be\",\"root_ids\":[\"10070\"],\"roots\":{\"10070\":\"dc41405f-8471-4295-8ae3-676f5e23445c\"}}];\n",
      "                root.Bokeh.embed.embed_items(docs_json, render_items);\n",
      "              \n",
      "                }\n",
      "                if (root.Bokeh !== undefined) {\n",
      "                  embed_document(root);\n",
      "                } else {\n",
      "                  var attempts = 0;\n",
      "                  var timer = setInterval(function(root) {\n",
      "                    if (root.Bokeh !== undefined) {\n",
      "                      clearInterval(timer);\n",
      "                      embed_document(root);\n",
      "                    } else {\n",
      "                      attempts++;\n",
      "                      if (attempts > 100) {\n",
      "                        clearInterval(timer);\n",
      "                        console.log(\"Bokeh: ERROR: Unable to run BokehJS code because BokehJS library is missing\");\n",
      "                      }\n",
      "                    }\n",
      "                  }, 10, root)\n",
      "                }\n",
      "              })(window);\n",
      "            });\n",
      "          };\n",
      "          if (document.readyState != \"loading\") fn();\n",
      "          else document.addEventListener(\"DOMContentLoaded\", fn);\n",
      "        })();\n",
      "</script>\n"
     ]
    }
   ],
   "source": [
    "print(script1)"
   ]
  },
  {
   "cell_type": "code",
   "execution_count": 82,
   "metadata": {},
   "outputs": [
    {
     "name": "stdout",
     "output_type": "stream",
     "text": [
      "\n",
      "<div class=\"bk-root\" id=\"dc41405f-8471-4295-8ae3-676f5e23445c\" data-root-id=\"10070\"></div>\n"
     ]
    }
   ],
   "source": [
    "print(div1)"
   ]
  },
  {
   "cell_type": "code",
   "execution_count": 88,
   "metadata": {
    "scrolled": true
   },
   "outputs": [
    {
     "data": {
      "text/plain": [
       "['https://cdn.bokeh.org/bokeh/release/bokeh-2.0.2.min.js',\n",
       " 'https://cdn.bokeh.org/bokeh/release/bokeh-widgets-2.0.2.min.js',\n",
       " 'https://cdn.bokeh.org/bokeh/release/bokeh-tables-2.0.2.min.js',\n",
       " 'https://cdn.bokeh.org/bokeh/release/bokeh-gl-2.0.2.min.js']"
      ]
     },
     "execution_count": 88,
     "metadata": {},
     "output_type": "execute_result"
    }
   ],
   "source": [
    "cdn_js"
   ]
  }
 ],
 "metadata": {
  "kernelspec": {
   "display_name": "Python 3.8.2 32-bit",
   "language": "python",
   "name": "python38232bite8c36366539b4382b8734ef2c0b604d0"
  },
  "language_info": {
   "codemirror_mode": {
    "name": "ipython",
    "version": 3
   },
   "file_extension": ".py",
   "mimetype": "text/x-python",
   "name": "python",
   "nbconvert_exporter": "python",
   "pygments_lexer": "ipython3",
   "version": "3.8.2"
  }
 },
 "nbformat": 4,
 "nbformat_minor": 4
}
