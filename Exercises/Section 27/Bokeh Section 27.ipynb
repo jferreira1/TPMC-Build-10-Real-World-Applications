{
 "cells": [
  {
   "cell_type": "code",
   "execution_count": 2,
   "metadata": {},
   "outputs": [],
   "source": [
    "from bokeh.plotting import figure\n",
    "from bokeh.io import output_file, show\n",
    "\n",
    "x = [1,2,3,4,5]\n",
    "y = [6,7,8,9,10]\n",
    "\n",
    "output_file(\"Line.html\")\n",
    "f = figure()\n",
    "f.line(x,y)\n",
    "show(f)"
   ]
  },
  {
   "cell_type": "code",
   "execution_count": 9,
   "metadata": {},
   "outputs": [],
   "source": [
    "from bokeh.plotting import figure\n",
    "from bokeh.io import output_file, show\n",
    "\n",
    "x = [1,2,3,4,5]\n",
    "y = [6,7,8,9,10]\n",
    "\n",
    "output_file(\"Circle.html\")\n",
    "f = figure()\n",
    "f.circle(x,y, size=50, color=\"green\", alpha=0.8)\n",
    "show(f)"
   ]
  },
  {
   "cell_type": "code",
   "execution_count": 11,
   "metadata": {},
   "outputs": [],
   "source": [
    "from bokeh.plotting import figure\n",
    "from bokeh.io import output_file, show\n",
    "\n",
    "x = [1,2,3,4,5]\n",
    "y = [6,7,8,9,10]\n",
    "\n",
    "output_file(\"Triangle.html\")\n",
    "f = figure()\n",
    "f.triangle(x,y, size=50, color=\"green\", alpha=0.8, line_color=\"white\")\n",
    "show(f)"
   ]
  },
  {
   "cell_type": "code",
   "execution_count": 33,
   "metadata": {},
   "outputs": [],
   "source": [
    "from bokeh.plotting import figure\n",
    "from bokeh.io import output_file, show\n",
    "import pandas as pd\n",
    "\n",
    "df = pd.read_csv(\"bachelors.csv\")\n",
    "x = df[\"Year\"]\n",
    "y = df[\"Engineering\"]\n",
    "\n",
    "output_file(\"Plot.html\")\n",
    "f = figure(plot_width=500,plot_height=500, tools='pan')\n",
    "f.title.text=\"Women who have received a bachelor's degree over the years in USA.\"\n",
    "f.xaxis.minor_tick_line_color=None\n",
    "f.yaxis.minor_tick_line_color=None\n",
    "f.xaxis.axis_label=\"Years\"\n",
    "f.yaxis.axis_label=\"Intensity\"\n",
    "f.xaxis.axis_label_text_font_style=\"bold\"\n",
    "f.yaxis.axis_label_text_font_style=\"bold\"\n",
    "\n",
    "f.line(x,y, line_color=\"black\")\n",
    "show(f)"
   ]
  },
  {
   "cell_type": "code",
   "execution_count": 57,
   "metadata": {},
   "outputs": [],
   "source": [
    "from bokeh.plotting import figure\n",
    "from bokeh.io import output_file, show\n",
    "import pandas as pd\n",
    "\n",
    "df = pd.read_excel(\"verlegenhuken.xlsx\")\n",
    "x = df[\"Temperature\"]/10\n",
    "y = df[\"Pressure\"]/10\n",
    "\n",
    "output_file(\"Plot.html\")\n",
    "\n",
    "f = figure(plot_width=500, plot_height=400, tools=\"pan\")\n",
    "f.title.text=\"Temperature and Air Pressure\"\n",
    "f.xaxis.minor_tick_line_color=None\n",
    "f.yaxis.minor_tick_line_color=None\n",
    "f.xaxis.axis_label=r\"Temperature (ºC)\"\n",
    "f.yaxis.axis_label=r\"Pressure (nPa)\"\n",
    "f.xaxis.axis_label_text_font_style=\"bold\"\n",
    "f.yaxis.axis_label_text_font_style=\"bold\"\n",
    "f.circle(x,y, size=1)\n",
    "show(f)"
   ]
  },
  {
   "cell_type": "code",
   "execution_count": 25,
   "metadata": {},
   "outputs": [],
   "source": [
    "from bokeh.plotting import figure, output_file, show\n",
    "from bokeh.io import curdoc\n",
    "import pandas as pd\n",
    "\n",
    "df = pd.read_csv(\"adbe.csv\", parse_dates=[\"Date\"])\n",
    "\n",
    "curdoc().theme = 'dark_minimal'\n",
    "p = figure(width=800, height=400, x_axis_type=\"datetime\", sizing_mode=\"scale_both\")\n",
    "p.line(df[\"Date\"], df[\"Close\"], color=\"orange\", alpha=0.5, line_width=3)\n",
    "output_file(\"Timeseries.html\")\n",
    "show(p)"
   ]
  },
  {
   "cell_type": "code",
   "execution_count": 34,
   "metadata": {},
   "outputs": [],
   "source": [
    "from bokeh.plotting import figure, output_file, show\n",
    "from bokeh.io import curdoc\n",
    "import pandas as pd\n",
    "\n",
    "df = pd.read_csv(\"Times.csv\", index_col=0)"
   ]
  },
  {
   "cell_type": "code",
   "execution_count": 35,
   "metadata": {},
   "outputs": [
    {
     "name": "stdout",
     "output_type": "stream",
     "text": [
      "                        Start                         End\n",
      "0  2020-05-25 11:59:48.549748  2020-05-25 11:59:55.732753\n",
      "1  2020-05-25 11:59:58.839749  2020-05-25 12:00:00.237747\n"
     ]
    }
   ],
   "source": [
    "print(df)"
   ]
  },
  {
   "cell_type": "code",
   "execution_count": null,
   "metadata": {},
   "outputs": [],
   "source": []
  }
 ],
 "metadata": {
  "kernelspec": {
   "display_name": "Python 3.8.2 32-bit",
   "language": "python",
   "name": "python38232bite8c36366539b4382b8734ef2c0b604d0"
  },
  "language_info": {
   "codemirror_mode": {
    "name": "ipython",
    "version": 3
   },
   "file_extension": ".py",
   "mimetype": "text/x-python",
   "name": "python",
   "nbconvert_exporter": "python",
   "pygments_lexer": "ipython3",
   "version": "3.8.2"
  }
 },
 "nbformat": 4,
 "nbformat_minor": 4
}
